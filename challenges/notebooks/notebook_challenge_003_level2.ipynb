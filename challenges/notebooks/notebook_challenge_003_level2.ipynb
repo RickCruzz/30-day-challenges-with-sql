{
  "cells": [
    {
      "cell_type": "markdown",
      "id": "ca98cf18",
      "metadata": {
        "id": "ca98cf18"
      },
      "source": [
        "\n",
        "# Por favor tente resolver o desafio sozinho, não pegue atalhos, tu consegue, é só colocar a cabeça para funcionar."
      ]
    },
    {
      "cell_type": "markdown",
      "id": "c0032015",
      "metadata": {
        "id": "c0032015"
      },
      "source": [
        "Execute a célula abaixo apenas uma vez."
      ]
    },
    {
      "cell_type": "code",
      "execution_count": 1,
      "id": "1b11fc2f",
      "metadata": {
        "colab": {
          "base_uri": "https://localhost:8080/"
        },
        "id": "1b11fc2f",
        "outputId": "2004c792-7428-4adc-8a87-1e4d71de4ce7"
      },
      "outputs": [
        {
          "output_type": "stream",
          "name": "stderr",
          "text": [
            "Cloning into '30-day-challenges-with-sql'...\n"
          ]
        }
      ],
      "source": [
        "%%bash\n",
        "\n",
        "rm -rf /tmp/github; mkdir -p /tmp/github; cd /tmp/github\n",
        "git clone https://github.com/romeritomorais/30-day-challenges-with-sql.git\n",
        "sh /tmp/github/30-day-challenges-with-sql/challenges/utils/install-miniconda.sh > /dev/null 2>&1\n",
        "sh /tmp/github/30-day-challenges-with-sql/challenges/utils/update-miniconda.sh > /dev/null 2>&1"
      ]
    },
    {
      "cell_type": "markdown",
      "id": "b693bdbd",
      "metadata": {
        "id": "b693bdbd"
      },
      "source": [
        "Nesse desafio eu preciso da contagem distinta dos dados da coluna `Customer.City` onde a contagem é >= a 2 linhas e por ordem alfabetica. \n",
        "\n",
        "resultado esperado:  \n",
        "\n",
        "| City | numero_de_linhas \n",
        "|--------------:|--------------\n",
        "| Berlin        |          2                  \n",
        "| London        |          2                  \n",
        "| Mountain View |          2                      \n",
        "| Paris         |          2                \n",
        "| Prague        |          2                \n",
        "| São Paulo     |          2   \n",
        "\n",
        "Na celula onde tem `%%sql` tu vai escrever a query abaixo dela, exemplo:  \n",
        "```python\n",
        "%%sql\n",
        "select * from Customer\n",
        "```\n",
        "\n",
        "Para resolução tu podes usar a documentação do sqlite:https://www.sqlite.org/docs.html"
      ]
    },
    {
      "cell_type": "code",
      "execution_count": 2,
      "id": "c7daa6e5",
      "metadata": {
        "colab": {
          "base_uri": "https://localhost:8080/",
          "height": 35
        },
        "id": "c7daa6e5",
        "outputId": "83ebbef8-47b5-48be-a499-8eb3e3c369b4"
      },
      "outputs": [
        {
          "output_type": "execute_result",
          "data": {
            "text/plain": [
              "'Connected: @//tmp/github/30-day-challenges-with-sql/challenges/utils/db/database.db'"
            ],
            "application/vnd.google.colaboratory.intrinsic+json": {
              "type": "string"
            }
          },
          "metadata": {},
          "execution_count": 2
        }
      ],
      "source": [
        "%load_ext sql\n",
        "%sql sqlite://///tmp/github/30-day-challenges-with-sql/challenges/utils/db/database.db"
      ]
    },
    {
      "cell_type": "markdown",
      "source": [
        "A solução pode ser encontrada usando uma deduplicação de dados pois não é possível utilizar o count no where. Caso seja necessário, é possível utilizar a clausula HAVING como no 2º Exemplo."
      ],
      "metadata": {
        "id": "Ey74549fMVvu"
      },
      "id": "Ey74549fMVvu"
    },
    {
      "cell_type": "code",
      "source": [
        "%%sql\n",
        "with cte_city as (\n",
        "select City, count(1) as numero_de_linhas\n",
        "from customer \n",
        "group by city\n",
        ")\n",
        "select * from cte_city where numero_de_linhas >=2\n"
      ],
      "metadata": {
        "id": "OKCnmpCRMWLt",
        "outputId": "258ddcf8-1d98-4581-ebe9-c95cadb7b5f2",
        "colab": {
          "base_uri": "https://localhost:8080/",
          "height": 203
        }
      },
      "id": "OKCnmpCRMWLt",
      "execution_count": 12,
      "outputs": [
        {
          "output_type": "stream",
          "name": "stdout",
          "text": [
            " * sqlite://///tmp/github/30-day-challenges-with-sql/challenges/utils/db/database.db\n",
            "Done.\n"
          ]
        },
        {
          "output_type": "execute_result",
          "data": {
            "text/plain": [
              "[('Berlin', 2),\n",
              " ('London', 2),\n",
              " ('Mountain View', 2),\n",
              " ('Paris', 2),\n",
              " ('Prague', 2),\n",
              " ('São Paulo', 2)]"
            ],
            "text/html": [
              "<table>\n",
              "    <thead>\n",
              "        <tr>\n",
              "            <th>City</th>\n",
              "            <th>numero_de_linhas</th>\n",
              "        </tr>\n",
              "    </thead>\n",
              "    <tbody>\n",
              "        <tr>\n",
              "            <td>Berlin</td>\n",
              "            <td>2</td>\n",
              "        </tr>\n",
              "        <tr>\n",
              "            <td>London</td>\n",
              "            <td>2</td>\n",
              "        </tr>\n",
              "        <tr>\n",
              "            <td>Mountain View</td>\n",
              "            <td>2</td>\n",
              "        </tr>\n",
              "        <tr>\n",
              "            <td>Paris</td>\n",
              "            <td>2</td>\n",
              "        </tr>\n",
              "        <tr>\n",
              "            <td>Prague</td>\n",
              "            <td>2</td>\n",
              "        </tr>\n",
              "        <tr>\n",
              "            <td>São Paulo</td>\n",
              "            <td>2</td>\n",
              "        </tr>\n",
              "    </tbody>\n",
              "</table>"
            ]
          },
          "metadata": {},
          "execution_count": 12
        }
      ]
    },
    {
      "cell_type": "code",
      "execution_count": 11,
      "id": "cfae8a63",
      "metadata": {
        "colab": {
          "base_uri": "https://localhost:8080/",
          "height": 203
        },
        "id": "cfae8a63",
        "outputId": "51aef562-b9dc-4a30-abb8-ee51630d92bf"
      },
      "outputs": [
        {
          "output_type": "stream",
          "name": "stdout",
          "text": [
            " * sqlite://///tmp/github/30-day-challenges-with-sql/challenges/utils/db/database.db\n",
            "Done.\n"
          ]
        },
        {
          "output_type": "execute_result",
          "data": {
            "text/plain": [
              "[('Berlin', 2),\n",
              " ('London', 2),\n",
              " ('Mountain View', 2),\n",
              " ('Paris', 2),\n",
              " ('Prague', 2),\n",
              " ('São Paulo', 2)]"
            ],
            "text/html": [
              "<table>\n",
              "    <thead>\n",
              "        <tr>\n",
              "            <th>City</th>\n",
              "            <th>numero_de_linhas</th>\n",
              "        </tr>\n",
              "    </thead>\n",
              "    <tbody>\n",
              "        <tr>\n",
              "            <td>Berlin</td>\n",
              "            <td>2</td>\n",
              "        </tr>\n",
              "        <tr>\n",
              "            <td>London</td>\n",
              "            <td>2</td>\n",
              "        </tr>\n",
              "        <tr>\n",
              "            <td>Mountain View</td>\n",
              "            <td>2</td>\n",
              "        </tr>\n",
              "        <tr>\n",
              "            <td>Paris</td>\n",
              "            <td>2</td>\n",
              "        </tr>\n",
              "        <tr>\n",
              "            <td>Prague</td>\n",
              "            <td>2</td>\n",
              "        </tr>\n",
              "        <tr>\n",
              "            <td>São Paulo</td>\n",
              "            <td>2</td>\n",
              "        </tr>\n",
              "    </tbody>\n",
              "</table>"
            ]
          },
          "metadata": {},
          "execution_count": 11
        }
      ],
      "source": [
        "%%sql\n",
        "\n",
        "select City, count(1) as numero_de_linhas\n",
        "from customer \n",
        "group by city\n",
        "having count(1) >=2\n",
        "\n"
      ]
    }
  ],
  "metadata": {
    "kernelspec": {
      "display_name": "Python 3",
      "language": "python",
      "name": "python3"
    },
    "language_info": {
      "codemirror_mode": {
        "name": "ipython",
        "version": 3
      },
      "file_extension": ".py",
      "mimetype": "text/x-python",
      "name": "python",
      "nbconvert_exporter": "python",
      "pygments_lexer": "ipython3",
      "version": "3.10.4"
    },
    "colab": {
      "name": "notebook_challenge_003_level2.ipynb",
      "provenance": []
    }
  },
  "nbformat": 4,
  "nbformat_minor": 5
}