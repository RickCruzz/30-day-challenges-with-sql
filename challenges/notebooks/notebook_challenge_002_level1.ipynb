{
  "cells": [
    {
      "cell_type": "markdown",
      "id": "cc962f74",
      "metadata": {
        "id": "cc962f74"
      },
      "source": [
        "\n",
        "# Por favor tente resolver o desafio sozinho, não pegue atalhos, tu consegue, é só colocar a cabeça para funcionar."
      ]
    },
    {
      "cell_type": "markdown",
      "id": "481f2029",
      "metadata": {
        "id": "481f2029"
      },
      "source": [
        "Execute a célula abaixo apenas uma vez."
      ]
    },
    {
      "cell_type": "code",
      "execution_count": 1,
      "id": "5478638e",
      "metadata": {
        "id": "5478638e",
        "outputId": "1c6d8886-edae-4632-9a6f-e867908f26ca",
        "colab": {
          "base_uri": "https://localhost:8080/"
        }
      },
      "outputs": [
        {
          "output_type": "stream",
          "name": "stderr",
          "text": [
            "Cloning into '30-day-challenges-with-sql'...\n"
          ]
        }
      ],
      "source": [
        "%%bash\n",
        "\n",
        "rm -rf /tmp/github; mkdir -p /tmp/github; cd /tmp/github\n",
        "git clone https://github.com/romeritomorais/30-day-challenges-with-sql.git\n",
        "sh /tmp/github/30-day-challenges-with-sql/challenges/utils/install-miniconda.sh > /dev/null 2>&1\n",
        "sh /tmp/github/30-day-challenges-with-sql/challenges/utils/update-miniconda.sh > /dev/null 2>&1"
      ]
    },
    {
      "cell_type": "markdown",
      "id": "5d3a3a36",
      "metadata": {
        "id": "5d3a3a36"
      },
      "source": [
        "Nesse desafio super fácil, eu preciso dos registros onde o primeiro caracter seja o \"A\" e o terceiro \"e\" da coluna `FirstName`\n",
        "tu vai criar uma query que traga esse resultado e uma breve explicação da implementação do código e descrever a query abaixo:\n",
        "\n",
        "\n",
        "FirstName |\n",
        "-|\n",
        "Alexandre| \n",
        "\n",
        "Na celula onde tem `%%sql` tu vai escrever a query abaixo dela, exemplo:  \n",
        "```python\n",
        "%%sql\n",
        "select * from Customer\n",
        "```\n",
        "\n",
        "Para resolução tu podes usar a documentação do sqlite:https://www.sqlite.org/docs.html"
      ]
    },
    {
      "cell_type": "code",
      "execution_count": 2,
      "id": "5fc377e9",
      "metadata": {
        "id": "5fc377e9",
        "outputId": "ad4e3231-44d3-45b3-8f66-a04809341dfe",
        "colab": {
          "base_uri": "https://localhost:8080/",
          "height": 35
        }
      },
      "outputs": [
        {
          "output_type": "execute_result",
          "data": {
            "text/plain": [
              "'Connected: @//tmp/github/30-day-challenges-with-sql/challenges/utils/db/database.db'"
            ],
            "application/vnd.google.colaboratory.intrinsic+json": {
              "type": "string"
            }
          },
          "metadata": {},
          "execution_count": 2
        }
      ],
      "source": [
        "%load_ext sql\n",
        "%sql sqlite://///tmp/github/30-day-challenges-with-sql/challenges/utils/db/database.db"
      ]
    },
    {
      "cell_type": "markdown",
      "id": "138054b1",
      "metadata": {
        "id": "138054b1"
      },
      "source": [
        "Explicação da implementação do código:\n",
        "\n",
        "--Utilizando o caractere coringa _\n",
        "--é possivel determinar a posição da string, diferentemente do % que pode indicar um intervalo incorreto\n",
        "\n",
        "--Utilizando o substring é possível extrair corretamente as posições e os caracteres para comparação.\n"
      ]
    },
    {
      "cell_type": "code",
      "execution_count": 7,
      "id": "9e241d83",
      "metadata": {
        "id": "9e241d83",
        "outputId": "9221293a-b86c-4e0b-9e87-6998464b6598",
        "colab": {
          "base_uri": "https://localhost:8080/",
          "height": 96
        }
      },
      "outputs": [
        {
          "output_type": "stream",
          "name": "stdout",
          "text": [
            " * sqlite://///tmp/github/30-day-challenges-with-sql/challenges/utils/db/database.db\n",
            "Done.\n"
          ]
        },
        {
          "output_type": "execute_result",
          "data": {
            "text/plain": [
              "[('Alexandre',)]"
            ],
            "text/html": [
              "<table>\n",
              "    <thead>\n",
              "        <tr>\n",
              "            <th>FirstName</th>\n",
              "        </tr>\n",
              "    </thead>\n",
              "    <tbody>\n",
              "        <tr>\n",
              "            <td>Alexandre</td>\n",
              "        </tr>\n",
              "    </tbody>\n",
              "</table>"
            ]
          },
          "metadata": {},
          "execution_count": 7
        }
      ],
      "source": [
        "%%sql\n",
        "select firstname from customer\n",
        "where \n",
        "Substr(firstname,1,1) = 'A'  and  \n",
        "Substr(firstname,3, 1)  = 'e'"
      ]
    }
  ],
  "metadata": {
    "kernelspec": {
      "display_name": "Python 3",
      "language": "python",
      "name": "python3"
    },
    "language_info": {
      "codemirror_mode": {
        "name": "ipython",
        "version": 3
      },
      "file_extension": ".py",
      "mimetype": "text/x-python",
      "name": "python",
      "nbconvert_exporter": "python",
      "pygments_lexer": "ipython3",
      "version": "3.10.4"
    },
    "colab": {
      "name": "notebook_challenge_002_level1.ipynb",
      "provenance": []
    }
  },
  "nbformat": 4,
  "nbformat_minor": 5
}