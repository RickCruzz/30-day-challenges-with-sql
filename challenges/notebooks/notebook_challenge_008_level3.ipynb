{
  "cells": [
    {
      "cell_type": "markdown",
      "id": "160bbfb2",
      "metadata": {
        "id": "160bbfb2"
      },
      "source": [
        "# Por favor tente resolver o desafio sozinho, não pegue atalhos, tu consegue, é só colocar a cabeça para funcionar."
      ]
    },
    {
      "cell_type": "markdown",
      "id": "e0e85531",
      "metadata": {
        "id": "e0e85531"
      },
      "source": [
        "Execute a célula abaixo apenas uma vez."
      ]
    },
    {
      "cell_type": "code",
      "execution_count": 1,
      "id": "7d725090",
      "metadata": {
        "colab": {
          "base_uri": "https://localhost:8080/"
        },
        "id": "7d725090",
        "outputId": "d114f06f-de8e-4090-85a1-e19fb0d8cdb5"
      },
      "outputs": [
        {
          "output_type": "stream",
          "name": "stderr",
          "text": [
            "Cloning into '30-day-challenges-with-sql'...\n"
          ]
        }
      ],
      "source": [
        "%%bash\n",
        "\n",
        "rm -rf /tmp/github; mkdir -p /tmp/github; cd /tmp/github\n",
        "git clone https://github.com/romeritomorais/30-day-challenges-with-sql.git\n",
        "sh /tmp/github/30-day-challenges-with-sql/challenges/utils/install-miniconda.sh > /dev/null 2>&1\n",
        "sh /tmp/github/30-day-challenges-with-sql/challenges/utils/update-miniconda.sh > /dev/null 2>&1"
      ]
    },
    {
      "cell_type": "markdown",
      "id": "467f1c4a",
      "metadata": {
        "id": "467f1c4a"
      },
      "source": [
        "Neste desafio precisamos que agrupe os dados da tabela `Invoice` e exiba apenas os maiores valores para cada `Customer.CustomerId` do \"Brazil\". Utilize funções como: `ROW_NUMBER e PARTITION` para resolver este problema.\n",
        "\n",
        "Critério:  \n",
        "Escreva essa transformação em apenas uma query. Boa sorte!\n",
        "\n",
        "resultado esperado:  \n",
        "\n",
        "|CustomerId|FirstName|LastName |country|total\n",
        "|----------:|--------:|--------:|------:|----\n",
        "|         1|Luís     |Gonçalves|Brazil |13.86\n",
        "|        10|Eduardo  |Martins  |Brazil |13.86\n",
        "|        11|Alexandre|Rocha    |Brazil |13.86\n",
        "|        12|Roberto  |Almeida  |Brazil |13.86\n",
        "|        13|Fernanda |Ramos    |Brazil |13.86\n",
        "\n",
        "Na célula onde se encontra o `%%sql`, escreva sua query, sem deletar o comando. Exemplo:  \n",
        "```python\n",
        "%%sql\n",
        "select * from Customer\n",
        "```\n",
        "\n",
        "Para resolução utilize a documentação do sqlite:https://www.sqlite.org/docs.html"
      ]
    },
    {
      "cell_type": "code",
      "execution_count": 2,
      "id": "2b36ffcd-323a-452a-a6a1-433be0285405",
      "metadata": {
        "colab": {
          "base_uri": "https://localhost:8080/",
          "height": 35
        },
        "id": "2b36ffcd-323a-452a-a6a1-433be0285405",
        "outputId": "13d56e5e-7208-44ca-d3bb-def4964e7977"
      },
      "outputs": [
        {
          "output_type": "execute_result",
          "data": {
            "text/plain": [
              "'Connected: @//tmp/github/30-day-challenges-with-sql/challenges/utils/db/database.db'"
            ],
            "application/vnd.google.colaboratory.intrinsic+json": {
              "type": "string"
            }
          },
          "metadata": {},
          "execution_count": 2
        }
      ],
      "source": [
        "%load_ext sql\n",
        "%sql sqlite://///tmp/github/30-day-challenges-with-sql/challenges/utils/db/database.db"
      ]
    },
    {
      "cell_type": "code",
      "execution_count": 14,
      "id": "275157e9",
      "metadata": {
        "colab": {
          "base_uri": "https://localhost:8080/",
          "height": 182
        },
        "id": "275157e9",
        "outputId": "52c952df-ab4b-415b-eed2-14da664c952c"
      },
      "outputs": [
        {
          "output_type": "stream",
          "name": "stdout",
          "text": [
            " * sqlite://///tmp/github/30-day-challenges-with-sql/challenges/utils/db/database.db\n",
            "Done.\n"
          ]
        },
        {
          "output_type": "execute_result",
          "data": {
            "text/plain": [
              "[(1, 'Luís', 'Gonçalves', 'Brazil', 13.86),\n",
              " (10, 'Eduardo', 'Martins', 'Brazil', 13.86),\n",
              " (11, 'Alexandre', 'Rocha', 'Brazil', 13.86),\n",
              " (12, 'Roberto', 'Almeida', 'Brazil', 13.86),\n",
              " (13, 'Fernanda', 'Ramos', 'Brazil', 13.86)]"
            ],
            "text/html": [
              "<table>\n",
              "    <thead>\n",
              "        <tr>\n",
              "            <th>CustomerId</th>\n",
              "            <th>FirstName</th>\n",
              "            <th>LastName</th>\n",
              "            <th>Country</th>\n",
              "            <th>total</th>\n",
              "        </tr>\n",
              "    </thead>\n",
              "    <tbody>\n",
              "        <tr>\n",
              "            <td>1</td>\n",
              "            <td>Luís</td>\n",
              "            <td>Gonçalves</td>\n",
              "            <td>Brazil</td>\n",
              "            <td>13.86</td>\n",
              "        </tr>\n",
              "        <tr>\n",
              "            <td>10</td>\n",
              "            <td>Eduardo</td>\n",
              "            <td>Martins</td>\n",
              "            <td>Brazil</td>\n",
              "            <td>13.86</td>\n",
              "        </tr>\n",
              "        <tr>\n",
              "            <td>11</td>\n",
              "            <td>Alexandre</td>\n",
              "            <td>Rocha</td>\n",
              "            <td>Brazil</td>\n",
              "            <td>13.86</td>\n",
              "        </tr>\n",
              "        <tr>\n",
              "            <td>12</td>\n",
              "            <td>Roberto</td>\n",
              "            <td>Almeida</td>\n",
              "            <td>Brazil</td>\n",
              "            <td>13.86</td>\n",
              "        </tr>\n",
              "        <tr>\n",
              "            <td>13</td>\n",
              "            <td>Fernanda</td>\n",
              "            <td>Ramos</td>\n",
              "            <td>Brazil</td>\n",
              "            <td>13.86</td>\n",
              "        </tr>\n",
              "    </tbody>\n",
              "</table>"
            ]
          },
          "metadata": {},
          "execution_count": 14
        }
      ],
      "source": [
        "%%sql\n",
        "select \n",
        "  invoice.customerId,\n",
        "  Firstname,\n",
        "  Lastname,\n",
        "  country,\n",
        "  max(total) as total\n",
        "from \n",
        "    Invoice\n",
        "inner join \n",
        "    customer on (customer.customerid = invoice.customerid)\n",
        "where upper(Country) ='BRAZIL'\n",
        "GROUP BY\n",
        "    invoice.customerId,\n",
        "    Firstname,\n",
        "    Lastname,\n",
        "    country\n"
      ]
    }
  ],
  "metadata": {
    "kernelspec": {
      "display_name": "Python 3",
      "language": "python",
      "name": "python3"
    },
    "language_info": {
      "codemirror_mode": {
        "name": "ipython",
        "version": 3
      },
      "file_extension": ".py",
      "mimetype": "text/x-python",
      "name": "python",
      "nbconvert_exporter": "python",
      "pygments_lexer": "ipython3",
      "version": "3.10.4"
    },
    "colab": {
      "name": "notebook_challenge_008_level3.ipynb",
      "provenance": []
    }
  },
  "nbformat": 4,
  "nbformat_minor": 5
}